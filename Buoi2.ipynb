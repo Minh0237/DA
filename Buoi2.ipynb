{
  "nbformat": 4,
  "nbformat_minor": 0,
  "metadata": {
    "colab": {
      "provenance": [],
      "authorship_tag": "ABX9TyN1Z1IKynhvTTJ3Y8JN4+Yr",
      "include_colab_link": true
    },
    "kernelspec": {
      "name": "python3",
      "display_name": "Python 3"
    },
    "language_info": {
      "name": "python"
    }
  },
  "cells": [
    {
      "cell_type": "markdown",
      "metadata": {
        "id": "view-in-github",
        "colab_type": "text"
      },
      "source": [
        "<a href=\"https://colab.research.google.com/github/Minh0237/DA/blob/main/Buoi2.ipynb\" target=\"_parent\"><img src=\"https://colab.research.google.com/assets/colab-badge.svg\" alt=\"Open In Colab\"/></a>"
      ]
    },
    {
      "cell_type": "code",
      "execution_count": null,
      "metadata": {
        "colab": {
          "base_uri": "https://localhost:8080/"
        },
        "id": "1zl5jSFKOyer",
        "outputId": "9e461a3b-1662-4e6b-d543-f963d0c56ae9"
      },
      "outputs": [
        {
          "output_type": "execute_result",
          "data": {
            "text/plain": [
              "3.0"
            ]
          },
          "metadata": {},
          "execution_count": 1
        }
      ],
      "source": [
        "def average(a, b, c, d, e):\n",
        "  return (a+b+c+d+e) / 5\n",
        "\n",
        "average(1, 2, 3, 4, 5)"
      ]
    },
    {
      "cell_type": "code",
      "source": [
        "def area(a, b, c):\n",
        "  p = (a + b + c)/2\n",
        "  return np.sqrt(p * (p - a) * (p - b) * (p - c))\n",
        "\n",
        "a = int(input())\n",
        "b = int(input())\n",
        "c = int(input())\n",
        "area(a, b, c)"
      ],
      "metadata": {
        "id": "zGXu65XaYmVy"
      },
      "execution_count": null,
      "outputs": []
    },
    {
      "cell_type": "code",
      "source": [
        "def area2(x1, y1, x2, y2, x3, y3):\n",
        "  s = (x2 - x1) * (y3 - y1) - (x3 - x1) * (y2 - y1)\n",
        "  if s >= 0:\n",
        "    return s / 2\n",
        "  else:\n",
        "    s = 0 - s\n",
        "    return s / 2\n",
        "\n",
        "area2(0, 0, 1, 4, 5, 1)"
      ],
      "metadata": {
        "colab": {
          "base_uri": "https://localhost:8080/"
        },
        "id": "1B0GM_DnYm58",
        "outputId": "3d4f673e-6308-4dcb-d571-ec5b78757ef1"
      },
      "execution_count": null,
      "outputs": [
        {
          "output_type": "execute_result",
          "data": {
            "text/plain": [
              "9.5"
            ]
          },
          "metadata": {},
          "execution_count": 7
        }
      ]
    },
    {
      "cell_type": "code",
      "source": [
        "def total(n):\n",
        "  d = 0\n",
        "  for i in range (0, len(str(n))):\n",
        "    c = n % 10\n",
        "    n = n/10\n",
        "    n = int(n)\n",
        "    d = c + d\n",
        "  print(d)\n",
        "\n",
        "total(123523)"
      ],
      "metadata": {
        "colab": {
          "base_uri": "https://localhost:8080/"
        },
        "id": "xEgwArvTfYnl",
        "outputId": "0f28dff2-95dc-4367-d82e-100d4dfede19"
      },
      "execution_count": null,
      "outputs": [
        {
          "output_type": "stream",
          "name": "stdout",
          "text": [
            "16\n"
          ]
        }
      ]
    },
    {
      "cell_type": "code",
      "source": [
        "def isFibo(n):\n",
        "  n1 = 1\n",
        "  n2 = 1\n",
        "  n3 = 1\n",
        "  if n == 1 | n == 2:\n",
        "    return True\n",
        "  for i in range(2, n):\n",
        "    n1 = n2\n",
        "    n2 = n3\n",
        "    n3 = n1 + n2\n",
        "    if n == n3:\n",
        "      return True\n",
        "  return False\n",
        "\n",
        "isFibo(21)"
      ],
      "metadata": {
        "colab": {
          "base_uri": "https://localhost:8080/"
        },
        "id": "YfPo4VuRgVnj",
        "outputId": "b213b6a6-3b73-4fc5-cc43-28c090a732a0"
      },
      "execution_count": null,
      "outputs": [
        {
          "output_type": "execute_result",
          "data": {
            "text/plain": [
              "True"
            ]
          },
          "metadata": {},
          "execution_count": 45
        }
      ]
    },
    {
      "cell_type": "code",
      "source": [
        "def F(n):\n",
        "  s = 1\n",
        "  d = 0\n",
        "  for i in range(1, n+1):\n",
        "    s = i * s\n",
        "    d = d + s\n",
        "  print(d)\n",
        "\n",
        "F(4)"
      ],
      "metadata": {
        "colab": {
          "base_uri": "https://localhost:8080/"
        },
        "id": "QELTkuB9rsr5",
        "outputId": "4dcf39e1-1abf-48dd-bdc6-e9ae1af5dde1"
      },
      "execution_count": 97,
      "outputs": [
        {
          "output_type": "stream",
          "name": "stdout",
          "text": [
            "33\n"
          ]
        }
      ]
    },
    {
      "cell_type": "code",
      "source": [
        "def xeploai(n):\n",
        "  while n < 10 and n >= 0:\n",
        "    if n < 3.5:\n",
        "      print(\"yeu\")\n",
        "    elif n >= 3.5 and n < 5:\n",
        "      print(\"kem\")\n",
        "    elif n >= 5 and n < 6.5:\n",
        "      print(\"trung binh\")\n",
        "    elif n >= 6.5 and n < 8:\n",
        "      print(\"kha\")\n",
        "    elif n >= 8 and n < 9:\n",
        "      print(\"gioi\")\n",
        "    else:\n",
        "      print(\"xuat sac\")\n",
        "\n",
        "\n",
        "\n",
        "n = float(input(\"Nhap diem trung binh: \"))\n",
        "xeploai(n)"
      ],
      "metadata": {
        "colab": {
          "base_uri": "https://localhost:8080/"
        },
        "id": "fiqzFV22kyvK",
        "outputId": "986b1048-9ec9-49d1-cf4b-396481664b17"
      },
      "execution_count": null,
      "outputs": [
        {
          "name": "stdout",
          "output_type": "stream",
          "text": [
            "Nhap diem trung binh: 11\n"
          ]
        }
      ]
    },
    {
      "cell_type": "code",
      "source": [
        "def sosanh(a, b, c):\n",
        "  if a > b and a > c or b == c:\n",
        "    print(a)\n",
        "  elif b > c and b > a or a == c:\n",
        "    print(b)\n",
        "  else:\n",
        "    print(c)\n",
        "\n",
        "  # if a >= b and a > c:\n",
        "  #   print(c)\n",
        "  # elif b >= c and b > a:\n",
        "  #   print(a)\n",
        "  # else:\n",
        "  #   print(b)\n",
        "\n",
        "\n",
        "a = float(input())\n",
        "b = float(input())\n",
        "c = float(input())\n",
        "\n",
        "sosanh(a, b, c)"
      ],
      "metadata": {
        "colab": {
          "base_uri": "https://localhost:8080/"
        },
        "id": "4ZwiUYEon8JW",
        "outputId": "a8e2b96c-704f-4934-fb23-6d3724bf02e7"
      },
      "execution_count": null,
      "outputs": [
        {
          "output_type": "stream",
          "name": "stdout",
          "text": [
            "5\n",
            "6\n",
            "6\n",
            "5.0\n"
          ]
        }
      ]
    },
    {
      "cell_type": "code",
      "source": [
        "def date(d, m, y):\n",
        "  if d == 31 and m == 1 or m == 3 or m == 5 or m == 7 or m == 8 or m == 10:\n",
        "    print(\"Ngay {} thang {} nam {}\".format(1, m+1, y))\n",
        "  elif d == 30 and m == 4 or m == 6 or m == 9 or m == 11:\n",
        "    print(\"Ngay {} thang {} nam {}\".format(1, m+1, y))\n",
        "  elif d == 28 and m == 2:\n",
        "    print(\"Ngay {} thang {} nam {}\".format(1, m+1, y))\n",
        "  elif d == 29 and m == 2 and (y % 400 == 0) or ((y % 4 == 0) and (y % 100 != 0)):\n",
        "    print(\"Ngay {} thang {} nam {}\".format(1, m+1, y))\n",
        "  elif d == 31 and m == 12:\n",
        "    print(\"Ngay {} thang {} nam {}\".format(1, 1, y+1))\n",
        "  elif d >= 1 and d <= 30 and m == 1 or m == 3 or m == 5 or m == 7 or m == 8 or m == 10:\n",
        "    print(\"Ngay {} thang {} nam {}\".format(d+1, m, y))\n",
        "  elif d >= 1 and d <= 29 and m == 4 or m == 6 or m == 9 or m == 11:\n",
        "    print(\"Ngay {} thang {} nam {}\".format(d+1, m, y))\n",
        "  elif d >= 1 and d <= 28 and m == 2:\n",
        "    print(\"Ngay {} thang {} nam {}\".format(d+1, m, y))\n",
        "  else:\n",
        "    print(\"Khong ton tai\")\n",
        "\n",
        "d = int(input(\"Nhap ngay: \"))\n",
        "m = int(input(\"Nhap thang: \"))\n",
        "y = int(input(\"Nhap nam: \"))\n",
        "\n",
        "date(d, m, y)"
      ],
      "metadata": {
        "colab": {
          "base_uri": "https://localhost:8080/"
        },
        "id": "a9bAwd63rJuz",
        "outputId": "937f675a-06de-47d5-8962-61adb2be8a80"
      },
      "execution_count": 96,
      "outputs": [
        {
          "output_type": "stream",
          "name": "stdout",
          "text": [
            "Nhap ngay: 31\n",
            "Nhap thang: 12\n",
            "Nhap nam: 2000\n",
            "Ngay 1 thang 1 nam 2001\n"
          ]
        }
      ]
    }
  ]
}