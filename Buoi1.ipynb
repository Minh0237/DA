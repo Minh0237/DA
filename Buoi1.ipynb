{
  "nbformat": 4,
  "nbformat_minor": 0,
  "metadata": {
    "colab": {
      "provenance": [],
      "authorship_tag": "ABX9TyPTN/7rWpYy5qB0W1QTBk/+",
      "include_colab_link": true
    },
    "kernelspec": {
      "name": "python3",
      "display_name": "Python 3"
    },
    "language_info": {
      "name": "python"
    }
  },
  "cells": [
    {
      "cell_type": "markdown",
      "metadata": {
        "id": "view-in-github",
        "colab_type": "text"
      },
      "source": [
        "<a href=\"https://colab.research.google.com/github/Minh0237/DA/blob/main/Buoi1.ipynb\" target=\"_parent\"><img src=\"https://colab.research.google.com/assets/colab-badge.svg\" alt=\"Open In Colab\"/></a>"
      ]
    },
    {
      "cell_type": "code",
      "execution_count": 1,
      "metadata": {
        "id": "Azko5QegHjSW",
        "colab": {
          "base_uri": "https://localhost:8080/"
        },
        "outputId": "177bab8e-5000-496e-9397-d5de8cd6e442"
      },
      "outputs": [
        {
          "output_type": "stream",
          "name": "stdout",
          "text": [
            "16444745\n",
            "33\n"
          ]
        }
      ],
      "source": [
        "#Bai 2\n",
        "\n",
        "a = 10000000\n",
        "for i in range(0, 10):\n",
        "  a = a + a * 0.051\n",
        "\n",
        "print(int(a))\n",
        "\n",
        "d = 0\n",
        "a = 10000000\n",
        "while a <= 50000000:\n",
        "  a = a + a * 0.051\n",
        "  d += 1\n",
        "\n",
        "print(d)"
      ]
    },
    {
      "cell_type": "code",
      "source": [
        "#Bai 3\n",
        "\n",
        "a = int(input())\n",
        "\n",
        "b = str(oct(a))\n",
        "c = str(bin(a))\n",
        "d = str(hex(a))\n",
        "print(b)\n",
        "print(c)\n",
        "print(d)"
      ],
      "metadata": {
        "colab": {
          "base_uri": "https://localhost:8080/"
        },
        "id": "v47sqfL6TGhw",
        "outputId": "e44d7662-bbc1-40e9-9418-c41e598d83f8"
      },
      "execution_count": 2,
      "outputs": [
        {
          "output_type": "stream",
          "name": "stdout",
          "text": [
            "12\n",
            "0o14\n",
            "0b1100\n",
            "0xc\n"
          ]
        }
      ]
    },
    {
      "cell_type": "code",
      "source": [
        "#Bai 4\n",
        "\n",
        "a = int(input())\n",
        "b = int(input())\n",
        "\n",
        "c = a ** (1/b)\n",
        "\n",
        "print(c)"
      ],
      "metadata": {
        "colab": {
          "base_uri": "https://localhost:8080/"
        },
        "id": "C3YFpwS8TTgY",
        "outputId": "ac5fd4e0-1ce6-474b-b9fe-9e4634ba2751"
      },
      "execution_count": 5,
      "outputs": [
        {
          "output_type": "stream",
          "name": "stdout",
          "text": [
            "1\n",
            "2\n",
            "1.0\n"
          ]
        }
      ]
    },
    {
      "cell_type": "code",
      "source": [
        "#Bai 5\n",
        "\n",
        "x = int(input())\n",
        "c = 1\n",
        "for i in range(0, len(str(x))-1):\n",
        "  c = c+1\n",
        "  x = x / 10\n",
        "\n",
        "print(c)\n",
        "print(int(x))"
      ],
      "metadata": {
        "colab": {
          "base_uri": "https://localhost:8080/"
        },
        "id": "5isEdw-yTa3t",
        "outputId": "36abdf51-a23e-41cf-93aa-a06df2903fa6"
      },
      "execution_count": 1,
      "outputs": [
        {
          "output_type": "stream",
          "name": "stdout",
          "text": [
            "848568\n",
            "6\n",
            "8\n"
          ]
        }
      ]
    }
  ]
}